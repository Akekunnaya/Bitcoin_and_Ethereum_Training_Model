{
 "cells": [
  {
   "cell_type": "code",
   "execution_count": 1,
   "id": "96aee527",
   "metadata": {},
   "outputs": [],
   "source": [
    "import pandas as pd\n",
    "import numpy as np  \n",
    "import matplotlib.pyplot as plt  \n",
    "from sklearn.model_selection import train_test_split\n",
    "from sklearn.linear_model import LinearRegression\n",
    "from sklearn.metrics import mean_absolute_error\n",
    "import warnings"
   ]
  },
  {
   "cell_type": "code",
   "execution_count": 2,
   "id": "3ff4f8bc",
   "metadata": {},
   "outputs": [
    {
     "name": "stdout",
     "output_type": "stream",
     "text": [
      "Data import successful\n"
     ]
    },
    {
     "data": {
      "text/html": [
       "<div>\n",
       "<style scoped>\n",
       "    .dataframe tbody tr th:only-of-type {\n",
       "        vertical-align: middle;\n",
       "    }\n",
       "\n",
       "    .dataframe tbody tr th {\n",
       "        vertical-align: top;\n",
       "    }\n",
       "\n",
       "    .dataframe thead th {\n",
       "        text-align: right;\n",
       "    }\n",
       "</style>\n",
       "<table border=\"1\" class=\"dataframe\">\n",
       "  <thead>\n",
       "    <tr style=\"text-align: right;\">\n",
       "      <th></th>\n",
       "      <th>High</th>\n",
       "      <th>Low</th>\n",
       "    </tr>\n",
       "  </thead>\n",
       "  <tbody>\n",
       "    <tr>\n",
       "      <th>count</th>\n",
       "      <td>945.000000</td>\n",
       "      <td>945.000000</td>\n",
       "    </tr>\n",
       "    <tr>\n",
       "      <th>mean</th>\n",
       "      <td>7931.408360</td>\n",
       "      <td>7508.430476</td>\n",
       "    </tr>\n",
       "    <tr>\n",
       "      <th>std</th>\n",
       "      <td>2459.242207</td>\n",
       "      <td>2260.659134</td>\n",
       "    </tr>\n",
       "    <tr>\n",
       "      <th>min</th>\n",
       "      <td>3282.300000</td>\n",
       "      <td>3177.000000</td>\n",
       "    </tr>\n",
       "    <tr>\n",
       "      <th>25%</th>\n",
       "      <td>6524.100000</td>\n",
       "      <td>6283.600000</td>\n",
       "    </tr>\n",
       "    <tr>\n",
       "      <th>50%</th>\n",
       "      <td>8060.200000</td>\n",
       "      <td>7604.000000</td>\n",
       "    </tr>\n",
       "    <tr>\n",
       "      <th>75%</th>\n",
       "      <td>9500.000000</td>\n",
       "      <td>9170.400000</td>\n",
       "    </tr>\n",
       "    <tr>\n",
       "      <th>max</th>\n",
       "      <td>17252.800000</td>\n",
       "      <td>16286.600000</td>\n",
       "    </tr>\n",
       "  </tbody>\n",
       "</table>\n",
       "</div>"
      ],
      "text/plain": [
       "               High           Low\n",
       "count    945.000000    945.000000\n",
       "mean    7931.408360   7508.430476\n",
       "std     2459.242207   2260.659134\n",
       "min     3282.300000   3177.000000\n",
       "25%     6524.100000   6283.600000\n",
       "50%     8060.200000   7604.000000\n",
       "75%     9500.000000   9170.400000\n",
       "max    17252.800000  16286.600000"
      ]
     },
     "execution_count": 2,
     "metadata": {},
     "output_type": "execute_result"
    }
   ],
   "source": [
    "bitcoin = pd.read_csv(r'C:\\Users\\aksha\\Desktop\\Bitcoins training model\\Bitcoin Historical Data final .csv')\n",
    "print(\"Data import successful\")\n",
    "bitcoin.describe()"
   ]
  },
  {
   "cell_type": "code",
   "execution_count": 3,
   "id": "2bbe2748",
   "metadata": {},
   "outputs": [
    {
     "name": "stdout",
     "output_type": "stream",
     "text": [
      "<class 'pandas.core.frame.DataFrame'>\n",
      "RangeIndex: 945 entries, 0 to 944\n",
      "Data columns (total 2 columns):\n",
      " #   Column  Non-Null Count  Dtype  \n",
      "---  ------  --------------  -----  \n",
      " 0   High    945 non-null    float64\n",
      " 1   Low     945 non-null    float64\n",
      "dtypes: float64(2)\n",
      "memory usage: 14.9 KB\n"
     ]
    }
   ],
   "source": [
    "bitcoin.info()"
   ]
  },
  {
   "cell_type": "code",
   "execution_count": 4,
   "id": "32556629",
   "metadata": {},
   "outputs": [
    {
     "data": {
      "text/plain": [
       "Text(0, 0.5, 'Low Value')"
      ]
     },
     "execution_count": 4,
     "metadata": {},
     "output_type": "execute_result"
    },
    {
     "data": {
      "image/png": "[encoded data removed]",
      "text/plain": [
       "<Figure size 432x288 with 1 Axes>"
      ]
     },
     "metadata": {
      "needs_background": "light"
     },
     "output_type": "display_data"
    }
   ],
   "source": [
    "bitcoin.plot(x='High', y='Low', style='r2--')  \n",
    "plt.title(' High vs Low Plot')  \n",
    "plt.xlabel('High Value')  \n",
    "plt.ylabel('Low Value')  "
   ]
  },
  {
   "cell_type": "code",
   "execution_count": 6,
   "id": "b22064ba",
   "metadata": {},
   "outputs": [],
   "source": [
    "BitHigh = bitcoin.iloc[:, :-1].values  \n",
    "BitLow = bitcoin.iloc[:, 1].values"
   ]
  },
  {
   "cell_type": "code",
   "execution_count": 7,
   "id": "8e4487f6",
   "metadata": {},
   "outputs": [
    {
     "name": "stdout",
     "output_type": "stream",
     "text": [
      "COMPLETED\n"
     ]
    }
   ],
   "source": [
    "train_a, test_a, train_b, test_b = train_test_split(BitHigh, BitLow, test_size=0.2, random_state=0) \n",
    "print('COMPLETED')"
   ]
  },
  {
   "cell_type": "code",
   "execution_count": 8,
   "id": "849a06da",
   "metadata": {},
   "outputs": [
    {
     "name": "stdout",
     "output_type": "stream",
     "text": [
      " DATA TRAINING COMPLETE.\n"
     ]
    }
   ],
   "source": [
    "regre = LinearRegression()  \n",
    "regre.fit(train_a,train_b) \n",
    "\n",
    "print(\" DATA TRAINING COMPLETE.\")"
   ]
  },
  {
   "cell_type": "code",
   "execution_count": 10,
   "id": "9d0eba88",
   "metadata": {},
   "outputs": [
    {
     "name": "stdout",
     "output_type": "stream",
     "text": [
      "[[11361.3]\n",
      " [ 3507.8]\n",
      " [ 6867.3]\n",
      " [ 9224.8]\n",
      " [ 8761.8]\n",
      " [ 7552.1]\n",
      " [ 6533.5]\n",
      " [11070.7]\n",
      " [ 7047.7]\n",
      " [ 3944.5]\n",
      " [12860.2]\n",
      " [ 8799.8]\n",
      " [ 8145.5]\n",
      " [ 4000.5]\n",
      " [ 8394.8]\n",
      " [ 6551.9]\n",
      " [ 8124.1]\n",
      " [ 5634.9]\n",
      " [ 8283.6]\n",
      " [ 4391.8]\n",
      " [ 7288.1]\n",
      " [ 9866.9]\n",
      " [11017.7]\n",
      " [ 4695.7]\n",
      " [ 9259.7]\n",
      " [ 6544.8]\n",
      " [ 6840.8]\n",
      " [ 8685.3]\n",
      " [ 9860.3]\n",
      " [ 9675.7]\n",
      " [10218.2]\n",
      " [ 3507.7]\n",
      " [ 3672. ]\n",
      " [ 7768.5]\n",
      " [ 9183.7]\n",
      " [10568.2]\n",
      " [ 7655.4]\n",
      " [ 9500.4]\n",
      " [10930.2]\n",
      " [ 4152.6]\n",
      " [ 3993.8]\n",
      " [ 9303.6]\n",
      " [11095.9]\n",
      " [ 7331. ]\n",
      " [ 9866. ]\n",
      " [15408.7]\n",
      " [ 7595.7]\n",
      " [ 6579.4]\n",
      " [ 6019.8]\n",
      " [ 7619.3]\n",
      " [ 8904. ]\n",
      " [ 6643.1]\n",
      " [ 9809.4]\n",
      " [10434.3]\n",
      " [ 7344.1]\n",
      " [10257.5]\n",
      " [ 9675.6]\n",
      " [ 9992.8]\n",
      " [ 8604.8]\n",
      " [ 9788.2]\n",
      " [ 3845.5]\n",
      " [10157.1]\n",
      " [ 7358.4]\n",
      " [14176.4]\n",
      " [ 9096.2]\n",
      " [ 5878.5]\n",
      " [ 3836.4]\n",
      " [ 6563.5]\n",
      " [10883.8]\n",
      " [ 9596.5]\n",
      " [11798.4]\n",
      " [ 3929. ]\n",
      " [ 6451.7]\n",
      " [ 8275.4]\n",
      " [11922.3]\n",
      " [ 6680. ]\n",
      " [ 9404.4]\n",
      " [ 8679. ]\n",
      " [ 5530.8]\n",
      " [ 5528.2]\n",
      " [ 8304.3]\n",
      " [ 9667.2]\n",
      " [ 3677.6]\n",
      " [ 5934.3]\n",
      " [ 4014.2]\n",
      " [ 8056.8]\n",
      " [ 7182.7]\n",
      " [ 8807.7]\n",
      " [11948. ]\n",
      " [ 8257.4]\n",
      " [ 5589.6]\n",
      " [10734. ]\n",
      " [ 9028.7]\n",
      " [ 4159.1]\n",
      " [ 6745.9]\n",
      " [ 3622.4]\n",
      " [ 6461.7]\n",
      " [ 9729.3]\n",
      " [ 6739.7]\n",
      " [ 7153.1]\n",
      " [ 6469.6]\n",
      " [ 9424.6]\n",
      " [ 8427. ]\n",
      " [ 8262.9]\n",
      " [ 8171.7]\n",
      " [12179.3]\n",
      " [ 7701.4]\n",
      " [ 7575.3]\n",
      " [ 9229.1]\n",
      " [ 7342.5]\n",
      " [ 7581.2]\n",
      " [ 6919.3]\n",
      " [ 9500. ]\n",
      " [ 8655.9]\n",
      " [ 6592.8]\n",
      " [10630.7]\n",
      " [ 7753.2]\n",
      " [ 9753.1]\n",
      " [ 9363. ]\n",
      " [ 7976.5]\n",
      " [ 7484.2]\n",
      " [ 9120.4]\n",
      " [ 9393.3]\n",
      " [ 6478.7]\n",
      " [ 5300.6]\n",
      " [ 8450.2]\n",
      " [ 6612.7]\n",
      " [ 9957.7]\n",
      " [ 7825.3]\n",
      " [ 8228. ]\n",
      " [ 6797.5]\n",
      " [ 8805.4]\n",
      " [ 6389.4]\n",
      " [ 9438.1]\n",
      " [ 8463.1]\n",
      " [ 3715.2]\n",
      " [ 8156.4]\n",
      " [15109.1]\n",
      " [10758.4]\n",
      " [ 7149.7]\n",
      " [ 6516.4]\n",
      " [10896.2]\n",
      " [ 9531.3]\n",
      " [ 6331.2]\n",
      " [ 6789.4]\n",
      " [ 8234.1]\n",
      " [10494.9]\n",
      " [ 7259.4]\n",
      " [ 6594.3]\n",
      " [11046.1]\n",
      " [ 8486.2]\n",
      " [ 4138.1]\n",
      " [13921.5]\n",
      " [13422. ]\n",
      " [ 6573.6]\n",
      " [ 9147.3]\n",
      " [ 9092.9]\n",
      " [ 8374.3]\n",
      " [12772.9]\n",
      " [ 6484.1]\n",
      " [ 7400.3]\n",
      " [10273.6]\n",
      " [ 3282.3]\n",
      " [ 5219.5]\n",
      " [ 8303.7]\n",
      " [ 6931.4]\n",
      " [ 3875.8]\n",
      " [ 9296.5]\n",
      " [ 7071.9]\n",
      " [ 5747.7]\n",
      " [ 9368.1]\n",
      " [ 8737.2]\n",
      " [ 9715.6]\n",
      " [12291.9]\n",
      " [ 8877.5]\n",
      " [ 4005.7]\n",
      " [ 6728.1]\n",
      " [16302.9]\n",
      " [ 3655.7]\n",
      " [13711. ]\n",
      " [ 7352.8]\n",
      " [ 3479.7]\n",
      " [ 5245.9]\n",
      " [ 7175.8]\n",
      " [ 4316.1]\n",
      " [ 8226.8]\n",
      " [10301.8]\n",
      " [ 9819.6]\n",
      " [ 6502.2]]\n"
     ]
    },
    {
     "data": {
      "text/plain": [
       "array([10645.40360341,  3464.96820639,  6536.55064941,  8692.00699989,\n",
       "        8268.68725853,  7162.66157574,  6231.35814473, 10379.70875062,\n",
       "        6701.48991797,  3864.24192357, 12015.84412249,  8303.43056343,\n",
       "        7705.20571079,  3915.44258343,  7933.14007692,  6248.18121869,\n",
       "        7685.63974434,  5409.77041343,  7831.4701952 ,  4273.20719422,\n",
       "        6921.28703638,  9279.07742307, 10331.25098325,  4551.06220373,\n",
       "        8723.91598256,  6241.68970645,  6512.32176573,  8198.74349996,\n",
       "        9273.04305959,  9104.26374154,  9600.27013396,  3464.87677664,\n",
       "        3615.09585549,  7360.51555421,  8654.42937274,  9920.2742581 ,\n",
       "        7257.10850723,  8943.98739022, 10251.24995222,  4054.50723281,\n",
       "        3909.3167902 ,  8764.0536427 , 10402.74904756,  6960.51039903,\n",
       "        9278.25455532, 14345.93129501,  7202.52494663,  6273.32439987,\n",
       "        5761.68352024,  7224.10236757,  8398.70036268,  6331.56515046,\n",
       "        9226.50531696,  9797.84982318,  6972.48769625,  9636.20202562,\n",
       "        9104.17231179,  9394.18747801,  8125.14255141,  9207.12221001,\n",
       "        3773.72647131,  9544.40655686,  6985.56215046, 13219.24248877,\n",
       "        8574.42834171,  5632.49328383,  3765.40636408,  6258.78706966,\n",
       "       10208.82654833,  9031.85137973, 11045.04303959,  3850.07031236,\n",
       "        6156.56860943,  7823.97295572, 11158.32449954,  6365.30272812,\n",
       "        8856.21483045,  8192.98342573,  5314.59204394,  5312.21487044,\n",
       "        7850.3961534 ,  9096.49221281,  3620.21592147,  5683.5110842 ,\n",
       "        3927.96845915,  7624.10752275,  6824.92008014,  8310.65351366,\n",
       "       11181.82194523,  7807.51560076,  5368.35273679, 10071.8647832 ,\n",
       "        8512.71326062,  4060.45016654,  6425.55493321,  3569.74669961,\n",
       "        6165.71158441,  9153.27008741,  6419.88628873,  6797.85687421,\n",
       "        6172.93453464,  8874.6836399 ,  7962.58045635,  7812.544237  ,\n",
       "        7729.16030522, 11393.29895641,  7299.16619212,  7183.87327768,\n",
       "        8695.93847913,  6971.02482025,  7189.26763292,  6584.09411929,\n",
       "        8943.62167122,  8171.86315354,  6285.57598634,  9977.4178517 ,\n",
       "        7346.5268025 ,  9175.03036785,  8818.36291405,  7550.6894337 ,\n",
       "        7100.58077565,  8596.55434115,  8846.06612823,  6181.25464187,\n",
       "        5104.12076   ,  7983.79215829,  6303.77050654,  9362.09563585,\n",
       "        7412.44765207,  7780.63525433,  6472.73268408,  8308.55062942,\n",
       "        6099.60787533,  8887.02665612,  7995.58659601,  3654.59350738,\n",
       "        7715.17155351, 14072.00776474, 10094.17364214,  6794.74826272,\n",
       "        6215.72365752, 10220.1638373 ,  8972.23918289,  6046.39576098,\n",
       "        6465.32687435,  7786.21246907,  9853.25625153,  6895.0466982 ,\n",
       "        6286.94743258, 10357.21703218,  8016.7068682 ,  4041.24991909,\n",
       "       12986.18805665, 12529.49645662,  6268.02147438,  8621.14894383,\n",
       "        8571.41115997,  7914.39697823, 11936.02595096,  6186.19184835,\n",
       "        7023.87121561,  9650.92221533,  3258.79412069,  5029.97123295,\n",
       "        7849.8475749 ,  6595.15711901,  3801.42968549,  8757.56213047,\n",
       "        6723.61591741,  5512.90317115,  8823.02583129,  8246.19554009,\n",
       "        9140.74421169, 11496.24885464,  8374.47147899,  3920.19693042,\n",
       "        6409.28043775, 15163.49611732,  3600.19280628, 12793.72843341,\n",
       "        6980.44208448,  3439.27644671,  5054.10868688,  6818.61142741,\n",
       "        4203.99487366,  7779.53809734,  9676.70540476,  9235.83115144,\n",
       "        6202.74063306])"
      ]
     },
     "execution_count": 10,
     "metadata": {},
     "output_type": "execute_result"
    }
   ],
   "source": [
    "print(test_a) # Testing data - In Hours\n",
    "pred_b = regre.predict(test_a) # Predicting the scores\n",
    "pred_b"
   ]
  },
  {
   "cell_type": "code",
   "execution_count": 11,
   "id": "406525af",
   "metadata": {},
   "outputs": [
    {
     "data": {
      "text/html": [
       "<div>\n",
       "<style scoped>\n",
       "    .dataframe tbody tr th:only-of-type {\n",
       "        vertical-align: middle;\n",
       "    }\n",
       "\n",
       "    .dataframe tbody tr th {\n",
       "        vertical-align: top;\n",
       "    }\n",
       "\n",
       "    .dataframe thead th {\n",
       "        text-align: right;\n",
       "    }\n",
       "</style>\n",
       "<table border=\"1\" class=\"dataframe\">\n",
       "  <thead>\n",
       "    <tr style=\"text-align: right;\">\n",
       "      <th></th>\n",
       "      <th>Actual</th>\n",
       "      <th>Predicted</th>\n",
       "    </tr>\n",
       "  </thead>\n",
       "  <tbody>\n",
       "    <tr>\n",
       "      <th>0</th>\n",
       "      <td>10557.8</td>\n",
       "      <td>10645.403603</td>\n",
       "    </tr>\n",
       "    <tr>\n",
       "      <th>1</th>\n",
       "      <td>3431.3</td>\n",
       "      <td>3464.968206</td>\n",
       "    </tr>\n",
       "    <tr>\n",
       "      <th>2</th>\n",
       "      <td>6337.8</td>\n",
       "      <td>6536.550649</td>\n",
       "    </tr>\n",
       "    <tr>\n",
       "      <th>3</th>\n",
       "      <td>9106.4</td>\n",
       "      <td>8692.007000</td>\n",
       "    </tr>\n",
       "    <tr>\n",
       "      <th>4</th>\n",
       "      <td>8437.1</td>\n",
       "      <td>8268.687259</td>\n",
       "    </tr>\n",
       "    <tr>\n",
       "      <th>...</th>\n",
       "      <td>...</td>\n",
       "      <td>...</td>\n",
       "    </tr>\n",
       "    <tr>\n",
       "      <th>184</th>\n",
       "      <td>4105.3</td>\n",
       "      <td>4203.994874</td>\n",
       "    </tr>\n",
       "    <tr>\n",
       "      <th>185</th>\n",
       "      <td>7922.1</td>\n",
       "      <td>7779.538097</td>\n",
       "    </tr>\n",
       "    <tr>\n",
       "      <th>186</th>\n",
       "      <td>9429.7</td>\n",
       "      <td>9676.705405</td>\n",
       "    </tr>\n",
       "    <tr>\n",
       "      <th>187</th>\n",
       "      <td>9223.2</td>\n",
       "      <td>9235.831151</td>\n",
       "    </tr>\n",
       "    <tr>\n",
       "      <th>188</th>\n",
       "      <td>6461.2</td>\n",
       "      <td>6202.740633</td>\n",
       "    </tr>\n",
       "  </tbody>\n",
       "</table>\n",
       "<p>189 rows × 2 columns</p>\n",
       "</div>"
      ],
      "text/plain": [
       "      Actual     Predicted\n",
       "0    10557.8  10645.403603\n",
       "1     3431.3   3464.968206\n",
       "2     6337.8   6536.550649\n",
       "3     9106.4   8692.007000\n",
       "4     8437.1   8268.687259\n",
       "..       ...           ...\n",
       "184   4105.3   4203.994874\n",
       "185   7922.1   7779.538097\n",
       "186   9429.7   9676.705405\n",
       "187   9223.2   9235.831151\n",
       "188   6461.2   6202.740633\n",
       "\n",
       "[189 rows x 2 columns]"
      ]
     },
     "execution_count": 11,
     "metadata": {},
     "output_type": "execute_result"
    }
   ],
   "source": [
    "df = pd.DataFrame({'Actual': test_b, 'Predicted': pred_b})  \n",
    "df "
   ]
  },
  {
   "cell_type": "code",
   "execution_count": 12,
   "id": "2ac3f61d",
   "metadata": {},
   "outputs": [
    {
     "name": "stdout",
     "output_type": "stream",
     "text": [
      "Mean  error:  231.02994570572204\n"
     ]
    }
   ],
   "source": [
    "print('Mean  error: ',mean_absolute_error(test_b,pred_b))"
   ]
  },
  {
   "cell_type": "code",
   "execution_count": 13,
   "id": "3d464def",
   "metadata": {},
   "outputs": [
    {
     "name": "stdout",
     "output_type": "stream",
     "text": [
      "Low = [11285.2289922]\n"
     ]
    }
   ],
   "source": [
    "High =[12061.1]\n",
    "answer = regre.predict([High])\n",
    "print(\"Low =\", answer)"
   ]
  },
  {
   "cell_type": "code",
   "execution_count": null,
   "id": "c1b7163f",
   "metadata": {},
   "outputs": [],
   "source": []
  }
 ],
 "metadata": {
  "kernelspec": {
   "display_name": "Python 3",
   "language": "python",
   "name": "python3"
  },
  "language_info": {
   "codemirror_mode": {
    "name": "ipython",
    "version": 3
   },
   "file_extension": ".py",
   "mimetype": "text/x-python",
   "name": "python",
   "nbconvert_exporter": "python",
   "pygments_lexer": "ipython3",
   "version": "3.8.10"
  }
 },
 "nbformat": 4,
 "nbformat_minor": 5
}
